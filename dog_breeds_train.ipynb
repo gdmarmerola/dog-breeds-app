{
 "cells": [
  {
   "cell_type": "markdown",
   "metadata": {},
   "source": [
    "# dog_breeds_train\n",
    "\n",
    "## Training models for running dog breeds app\n",
    "\n",
    "Let us train needed models for the dog breeds app."
   ]
  },
  {
   "cell_type": "code",
   "execution_count": 1,
   "metadata": {},
   "outputs": [],
   "source": [
    "# basic imports \n",
    "import os\n",
    "import shutil\n",
    "import numpy as np\n",
    "import pandas as pd\n",
    "import matplotlib.pyplot as plt\n",
    "from tqdm import tqdm\n",
    "\n",
    "# importing core\n",
    "from app.core import (\n",
    "    chunks_df,\n",
    "    build_metadata,\n",
    "    extract_features\n",
    ")"
   ]
  },
  {
   "cell_type": "markdown",
   "metadata": {},
   "source": [
    "## Data\n",
    "\n",
    "The data is divided into 120 folders, each representing a breed, that contain several dog pictures each. The `build_metadata` function builds a simple dataframe which contains a single column `breed` and the path to the corresponding image as index."
   ]
  },
  {
   "cell_type": "code",
   "execution_count": 2,
   "metadata": {},
   "outputs": [
    {
     "name": "stderr",
     "output_type": "stream",
     "text": [
      "121it [00:06, 17.43it/s]\n"
     ]
    },
    {
     "data": {
      "text/html": [
       "<div>\n",
       "<style scoped>\n",
       "    .dataframe tbody tr th:only-of-type {\n",
       "        vertical-align: middle;\n",
       "    }\n",
       "\n",
       "    .dataframe tbody tr th {\n",
       "        vertical-align: top;\n",
       "    }\n",
       "\n",
       "    .dataframe thead th {\n",
       "        text-align: right;\n",
       "    }\n",
       "</style>\n",
       "<table border=\"1\" class=\"dataframe\">\n",
       "  <thead>\n",
       "    <tr style=\"text-align: right;\">\n",
       "      <th></th>\n",
       "      <th>breed</th>\n",
       "    </tr>\n",
       "    <tr>\n",
       "      <th>pet_id</th>\n",
       "      <th></th>\n",
       "    </tr>\n",
       "  </thead>\n",
       "  <tbody>\n",
       "    <tr>\n",
       "      <th>data/img/.DS_Store</th>\n",
       "      <td></td>\n",
       "    </tr>\n",
       "    <tr>\n",
       "      <th>data/img/n02097658-silky_terrier/n02097658_26.jpg</th>\n",
       "      <td>silky_terrier</td>\n",
       "    </tr>\n",
       "    <tr>\n",
       "      <th>data/img/n02097658-silky_terrier/n02097658_4869.jpg</th>\n",
       "      <td>silky_terrier</td>\n",
       "    </tr>\n",
       "    <tr>\n",
       "      <th>data/img/n02097658-silky_terrier/n02097658_595.jpg</th>\n",
       "      <td>silky_terrier</td>\n",
       "    </tr>\n",
       "    <tr>\n",
       "      <th>data/img/n02097658-silky_terrier/n02097658_9222.jpg</th>\n",
       "      <td>silky_terrier</td>\n",
       "    </tr>\n",
       "  </tbody>\n",
       "</table>\n",
       "</div>"
      ],
      "text/plain": [
       "                                                            breed\n",
       "pet_id                                                           \n",
       "data/img/.DS_Store                                               \n",
       "data/img/n02097658-silky_terrier/n02097658_26.jpg   silky_terrier\n",
       "data/img/n02097658-silky_terrier/n02097658_4869...  silky_terrier\n",
       "data/img/n02097658-silky_terrier/n02097658_595.jpg  silky_terrier\n",
       "data/img/n02097658-silky_terrier/n02097658_9222...  silky_terrier"
      ]
     },
     "execution_count": 2,
     "metadata": {},
     "output_type": "execute_result"
    }
   ],
   "source": [
    "# reading data\n",
    "meta_df = build_metadata()\n",
    "meta_df.head()"
   ]
  },
  {
   "cell_type": "markdown",
   "metadata": {},
   "source": [
    "As expected, we have 120 breeds. Also, we have 20580 images, as a I joined the train and test sets of the original dataset, as I need the most data I can get."
   ]
  },
  {
   "cell_type": "code",
   "execution_count": 3,
   "metadata": {},
   "outputs": [
    {
     "name": "stdout",
     "output_type": "stream",
     "text": [
      "number of unique breeds: 121\n",
      "number of rows in the dataframe: 20581\n"
     ]
    }
   ],
   "source": [
    "# number of unique breeds after filter\n",
    "print('number of unique breeds:', meta_df['breed'].nunique())\n",
    "print('number of rows in the dataframe:', meta_df['breed'].shape[0])"
   ]
  },
  {
   "cell_type": "markdown",
   "metadata": {},
   "source": [
    "We reserve the images' paths for use later:"
   ]
  },
  {
   "cell_type": "code",
   "execution_count": 4,
   "metadata": {},
   "outputs": [],
   "source": [
    "# creating list with paths\n",
    "paths = meta_df.index.values"
   ]
  },
  {
   "cell_type": "markdown",
   "metadata": {},
   "source": [
    "## Feature extraction \n",
    "\n",
    "The first step is extracting features from the images using a pretrained neural network. I chose `Xception` based on its good results on this [Kaggle Kernel](https://www.kaggle.com/gaborfodor/dog-breed-pretrained-keras-models-lb-0-3/#data), and for it being relatively lightweight for quick inference."
   ]
  },
  {
   "cell_type": "code",
   "execution_count": 5,
   "metadata": {},
   "outputs": [],
   "source": [
    "# using a pre-trained net\n",
    "from tensorflow.keras.applications.xception import Xception, preprocess_input\n",
    "from tensorflow.keras.preprocessing import image\n",
    "\n",
    "# instance of feature extractor\n",
    "extractor = Xception(include_top=False, pooling='avg')"
   ]
  },
  {
   "cell_type": "markdown",
   "metadata": {},
   "source": [
    "The function `extract_features` gets a list of paths, an `extractor` (the Xception net in this case), and returns a dataframe with features. We save the dataframe so we don't need to run the process all the time (it takes ~15 minutes on my machine)."
   ]
  },
  {
   "cell_type": "code",
   "execution_count": 6,
   "metadata": {},
   "outputs": [],
   "source": [
    "# if we havent extracted features, do it\n",
    "if not os.path.exists('data/features.zip'):\n",
    "    features_df = extract_features(paths, extractor)\n",
    "    features_df.to_csv(\n",
    "        'data/features.zip',\n",
    "        compression=dict(method='zip', archive_name='features.csv')\n",
    "    )\n",
    "    \n",
    "# read features\n",
    "features_df = pd.read_csv('data/features.zip', index_col='pet_id')\n",
    "features_df = features_df.sort_index()"
   ]
  },
  {
   "cell_type": "markdown",
   "metadata": {},
   "source": [
    "As the extraction pipeline can't process some of the images, we need to realign our metadata index with the extraction's index, so they have the same images, in the same order:"
   ]
  },
  {
   "cell_type": "code",
   "execution_count": 7,
   "metadata": {},
   "outputs": [],
   "source": [
    "# realign index with main df\n",
    "meta_df = meta_df.loc[features_df.index]\n",
    "meta_df.to_csv('data/metadata.csv')"
   ]
  },
  {
   "cell_type": "markdown",
   "metadata": {},
   "source": [
    "## Modeling"
   ]
  },
  {
   "cell_type": "markdown",
   "metadata": {},
   "source": [
    "### Data preparation"
   ]
  },
  {
   "cell_type": "code",
   "execution_count": 8,
   "metadata": {},
   "outputs": [],
   "source": [
    "# label encoder for target and splitter\n",
    "from sklearn.preprocessing import LabelEncoder\n",
    "\n",
    "# defining design matrix\n",
    "X = features_df.copy().values\n",
    "\n",
    "# defining target\n",
    "label_encoder = LabelEncoder()\n",
    "y = label_encoder.fit_transform(meta_df['breed'])"
   ]
  },
  {
   "cell_type": "markdown",
   "metadata": {},
   "source": [
    "### Training Logistic regression and PCA"
   ]
  },
  {
   "cell_type": "code",
   "execution_count": 9,
   "metadata": {},
   "outputs": [],
   "source": [
    "### PCA\n",
    "from sklearn.pipeline import Pipeline\n",
    "from sklearn.decomposition import PCA\n",
    "from sklearn.linear_model import LogisticRegression\n",
    "\n",
    "# instance of PCA\n",
    "pca = PCA(n_components=1024, whiten=True)\n",
    "\n",
    "# instance of logistic regression\n",
    "lr = LogisticRegression(C=1e-2, multi_class='multinomial', penalty='l2', max_iter=200)\n",
    "\n",
    "# model\n",
    "model = Pipeline([('pca', pca), ('lr', lr)])"
   ]
  },
  {
   "cell_type": "code",
   "execution_count": 10,
   "metadata": {},
   "outputs": [
    {
     "name": "stdout",
     "output_type": "stream",
     "text": [
      "Accuracy: 0.883\n",
      "Log-loss: 0.534\n"
     ]
    }
   ],
   "source": [
    "from sklearn.metrics import accuracy_score, log_loss\n",
    "from sklearn.model_selection import cross_val_predict\n",
    "\n",
    "# evaluating\n",
    "preds = cross_val_predict(model, X, y, method='predict_proba', n_jobs=-1, verbose=3)\n",
    "\n",
    "# test metrics\n",
    "print(f'Accuracy: {accuracy_score(y, np.argmax(preds, axis=1)):.3f}')\n",
    "print(f'Log-loss: {log_loss(y, preds):.3f}')"
   ]
  },
  {
   "cell_type": "code",
   "execution_count": 11,
   "metadata": {},
   "outputs": [],
   "source": [
    "# fit model with all the data\n",
    "model.fit(X, y)\n",
    "\n",
    "# getting just the pca\n",
    "pca = model.steps[0][1]"
   ]
  },
  {
   "cell_type": "markdown",
   "metadata": {},
   "source": [
    "### Testing nearest neighbor model"
   ]
  },
  {
   "cell_type": "code",
   "execution_count": 12,
   "metadata": {},
   "outputs": [
    {
     "name": "stderr",
     "output_type": "stream",
     "text": [
      "[Parallel(n_jobs=-1)]: Using backend LokyBackend with 12 concurrent workers.\n",
      "[Parallel(n_jobs=-1)]: Done   2 out of   5 | elapsed:  3.0min remaining:  4.5min\n",
      "[Parallel(n_jobs=-1)]: Done   5 out of   5 | elapsed:  3.0min finished\n"
     ]
    },
    {
     "name": "stdout",
     "output_type": "stream",
     "text": [
      "Accuracy: 0.877\n",
      "Log-loss: 0.740\n"
     ]
    }
   ],
   "source": [
    "from sklearn.neighbors import KNeighborsClassifier\n",
    "\n",
    "# function to 'supervise' embedding given coefficients of logreg\n",
    "def supervised_transform(x):\n",
    "    return np.abs(lr.coef_).sum(axis=0) * pca.transform(x)\n",
    "\n",
    "# building nearest neighbor model\n",
    "nn = KNeighborsClassifier(n_neighbors=30)\n",
    "\n",
    "# evaluating\n",
    "preds = cross_val_predict(nn, supervised_transform(X), y, method='predict_proba', n_jobs=-1, verbose=3)\n",
    "\n",
    "# test metrics\n",
    "print(f'Accuracy: {accuracy_score(y, np.argmax(preds, axis=1)):.3f}')\n",
    "print(f'Log-loss: {log_loss(y, preds):.3f}')"
   ]
  },
  {
   "cell_type": "markdown",
   "metadata": {},
   "source": [
    "### Saving nearest neighbor model"
   ]
  },
  {
   "cell_type": "code",
   "execution_count": 13,
   "metadata": {},
   "outputs": [
    {
     "data": {
      "text/plain": [
       "['data/pca.compressed']"
      ]
     },
     "execution_count": 13,
     "metadata": {},
     "output_type": "execute_result"
    }
   ],
   "source": [
    "from joblib import dump, load\n",
    "\n",
    "# saving transform data\n",
    "dump(lr.coef_, 'data/coef.compressed', compress=True)\n",
    "dump(pca, 'data/pca.compressed', compress=True)"
   ]
  },
  {
   "cell_type": "markdown",
   "metadata": {},
   "source": [
    "### Saving transformed features"
   ]
  },
  {
   "cell_type": "code",
   "execution_count": 21,
   "metadata": {},
   "outputs": [],
   "source": [
    "X_transformed = supervised_transform(X)\n",
    "X_transformed = pd.DataFrame(X_transformed, index=features_df.index)"
   ]
  },
  {
   "cell_type": "code",
   "execution_count": 22,
   "metadata": {},
   "outputs": [],
   "source": [
    "# saving in chunks\n",
    "for i, ck in enumerate(chunks_df(X_transformed, 5500)):\n",
    "    ck.to_hdf(\n",
    "        f'data/features/features_{i}.h5',\n",
    "        key=f'features_{i}',\n",
    "        complevel=5\n",
    "    )"
   ]
  },
  {
   "cell_type": "code",
   "execution_count": null,
   "metadata": {},
   "outputs": [],
   "source": []
  }
 ],
 "metadata": {
  "kernelspec": {
   "display_name": "Python 3",
   "language": "python",
   "name": "python3"
  },
  "language_info": {
   "codemirror_mode": {
    "name": "ipython",
    "version": 3
   },
   "file_extension": ".py",
   "mimetype": "text/x-python",
   "name": "python",
   "nbconvert_exporter": "python",
   "pygments_lexer": "ipython3",
   "version": "3.8.3"
  }
 },
 "nbformat": 4,
 "nbformat_minor": 4
}
